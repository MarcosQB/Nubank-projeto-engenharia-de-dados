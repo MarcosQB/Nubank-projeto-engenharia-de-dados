{
 "cells": [
  {
   "cell_type": "code",
   "execution_count": null,
   "id": "b06a0264",
   "metadata": {},
   "outputs": [],
   "source": [
    "#Iniciando o Spark no EMR\n",
    "#spark"
   ]
  },
  {
   "cell_type": "code",
   "execution_count": null,
   "id": "2f80c663",
   "metadata": {},
   "outputs": [],
   "source": [
    "#Importando bibliotecas\n",
    "import json\n",
    "from datetime import timedelta, datetime\n",
    "\n",
    "#Importação da biblioteca PySpark para processamento de dados em larga escala\n",
    "from pyspark.sql import SparkSession, Row\n",
    "from decimal import Decimal\n",
    "from pyspark.sql.functions import lit, col, expr, to_timestamp, format_number,udf, when\n",
    "from pyspark.sql.types import StructType, StructField, StringType, FloatType, DoubleType, IntegerType, TimestampType, DateType, ArrayType, DecimalType"
   ]
  },
  {
   "cell_type": "code",
   "execution_count": null,
   "id": "d66cf6c9",
   "metadata": {
    "scrolled": true
   },
   "outputs": [],
   "source": [
    "#Inicializando uma sessao spark\n",
    "spark = SparkSession.builder.appName('Nubank').getOrCreate()"
   ]
  },
  {
   "cell_type": "markdown",
   "id": "8484da2d",
   "metadata": {},
   "source": [
    "## DataFrames"
   ]
  },
  {
   "cell_type": "markdown",
   "id": "8b7a2846",
   "metadata": {},
   "source": [
    "#### Montando a tabela de Transacoes"
   ]
  },
  {
   "cell_type": "code",
   "execution_count": null,
   "id": "82acb1b5",
   "metadata": {},
   "outputs": [],
   "source": [
    "#transformando json em dataframe\n",
    "compras = spark.read.json('s3://nubank-api-dependencias/JSONS/compras.json')"
   ]
  },
  {
   "cell_type": "code",
   "execution_count": null,
   "id": "01e74e8d",
   "metadata": {},
   "outputs": [],
   "source": [
    "# Converte a coluna 'time' para o formato Timestamp e divide a coluna 'amount' por 100\n",
    "compras = compras.withColumn('time', to_timestamp(compras['time'], 'yyyy-MM-dd\\'T\\'HH:mm:ssX'))\n",
    "compras = compras.withColumn('amount', col(\"amount\") / 100)"
   ]
  },
  {
   "cell_type": "code",
   "execution_count": null,
   "id": "d7992006",
   "metadata": {},
   "outputs": [],
   "source": [
    "# Adicionar uma coluna vazia ao DataFrame df_transacoes para corresponder ao DataFrame df_parcelas\n",
    "compras = compras.withColumn(\"qtd_parcelas\", lit(None).cast(\"integer\"))\n",
    "compras = compras.withColumn(\"parcela\", lit(None).cast(\"integer\"))"
   ]
  },
  {
   "cell_type": "code",
   "execution_count": null,
   "id": "c55d2415",
   "metadata": {},
   "outputs": [],
   "source": [
    "#Removendo colunas desnecessarios\n",
    "compras = compras.drop(*['_links','account','amount_without_iof','details','href','id','source','tokenized'])"
   ]
  },
  {
   "cell_type": "code",
   "execution_count": null,
   "id": "782b0fbb",
   "metadata": {},
   "outputs": [],
   "source": [
    "#Schema do DataFrame\n",
    "schema_ = StructType([\n",
    "    StructField('amount', DoubleType(), True),\n",
    "    StructField('category', StringType(), True),\n",
    "    StructField('description', StringType(), True),\n",
    "    StructField('time', TimestampType(), True),\n",
    "    StructField('title', StringType(), True),\n",
    "    StructField('qtd_parcelas', IntegerType(), True),\n",
    "    StructField('parcela', IntegerType(), True)\n",
    "])"
   ]
  },
  {
   "cell_type": "code",
   "execution_count": null,
   "id": "1279929e",
   "metadata": {},
   "outputs": [],
   "source": [
    "#Criando o DataFrame de parcelas\n",
    "parcelas = spark.read.json('s3://nubank-api-dependencias/JSONS/parcelas.json',schema_)"
   ]
  },
  {
   "cell_type": "code",
   "execution_count": null,
   "id": "d3138815",
   "metadata": {},
   "outputs": [],
   "source": [
    "# Converte a coluna 'time' para o formato Timestamp\n",
    "parcelas = parcelas.withColumn('time', to_timestamp(parcelas['time'], 'yyyy-MM-dd\\'T\\'HH:mm:ssX'))"
   ]
  },
  {
   "cell_type": "code",
   "execution_count": null,
   "id": "01b3acb3",
   "metadata": {},
   "outputs": [],
   "source": [
    "parcelas = parcelas.withColumn(\"parcela\", col(\"parcela\").cast(\"integer\"))\n",
    "parcelas = parcelas.withColumn(\"qtd_parcelas\", col(\"qtd_parcelas\").cast(\"integer\"))"
   ]
  },
  {
   "cell_type": "code",
   "execution_count": null,
   "id": "1aea19df",
   "metadata": {},
   "outputs": [],
   "source": [
    "#Unindo os DataFrames compras e parcelas\n",
    "transacoes = compras.union(parcelas)"
   ]
  },
  {
   "cell_type": "code",
   "execution_count": null,
   "id": "68f1e120",
   "metadata": {},
   "outputs": [],
   "source": [
    "# Substituir os nulls por 0 na coluna \"qtd_parcelas\"\n",
    "transacoes = transacoes.fillna(0, subset=[\"qtd_parcelas\"])\n",
    "\n",
    "# Substituir os nulls por 0 na coluna \"parcela\"\n",
    "transacoes = transacoes.fillna(0, subset=[\"parcela\"])"
   ]
  },
  {
   "cell_type": "code",
   "execution_count": null,
   "id": "e39f2e61",
   "metadata": {},
   "outputs": [],
   "source": [
    "#Convertendo o DataFrame em parquet\n",
    "transacoes.write.\\\n",
    "parquet('s3://nubank-api-dependencias/Tabelas/transacoes/',mode='overwrite')"
   ]
  },
  {
   "cell_type": "markdown",
   "id": "00f2829f",
   "metadata": {},
   "source": [
    "#### Limite"
   ]
  },
  {
   "cell_type": "code",
   "execution_count": null,
   "id": "4317b64d",
   "metadata": {},
   "outputs": [],
   "source": [
    "# Transformando o arquivo Json em DataFrame\n",
    "limite = spark.read.json('s3://nubank-api-dependencias/JSONS/limite.json')"
   ]
  },
  {
   "cell_type": "code",
   "execution_count": null,
   "id": "e8e934ae",
   "metadata": {},
   "outputs": [],
   "source": [
    "# Converte a coluna 'Data' para o formato Timestamp\n",
    "limite = limite.withColumn('Data', to_timestamp(limite['Data'], 'yyyy:MM:dd HH:mm:ss'))"
   ]
  },
  {
   "cell_type": "code",
   "execution_count": null,
   "id": "52c8ab8f",
   "metadata": {},
   "outputs": [],
   "source": [
    "#Nome parquet\n",
    "limite_name = datetime.now().strftime('%Y:%m:%d %H:%M:%S')\n",
    "limite_parquet_name = 'limite-'+limite_name"
   ]
  },
  {
   "cell_type": "code",
   "execution_count": null,
   "id": "547e4f80",
   "metadata": {},
   "outputs": [],
   "source": [
    "#Convertendo o DataFrame em parquet\n",
    "limite.write.parquet(f's3://nubank-api-dependencias/Tabelas/limite/{limite_parquet_name}.parquet')"
   ]
  },
  {
   "cell_type": "markdown",
   "id": "14333d9b",
   "metadata": {},
   "source": [
    "#### Saldo"
   ]
  },
  {
   "cell_type": "code",
   "execution_count": null,
   "id": "bf554ff3",
   "metadata": {},
   "outputs": [],
   "source": [
    "# Transformando o arquivo Json em DataFrame\n",
    "saldo = spark.read.json('s3://nubank-api-dependencias/JSONS/saldo.json')"
   ]
  },
  {
   "cell_type": "code",
   "execution_count": null,
   "id": "5e91f527",
   "metadata": {},
   "outputs": [],
   "source": [
    "# Converte a coluna 'Data' para o formato Timestamp \n",
    "saldo = saldo.withColumn('Data', to_timestamp(saldo['Data'], 'yyyy:MM:dd HH:mm:ss'))"
   ]
  },
  {
   "cell_type": "code",
   "execution_count": null,
   "id": "9781e6d4",
   "metadata": {},
   "outputs": [],
   "source": [
    "#Nome parquet\n",
    "saldo_name = datetime.now().strftime('%Y:%m:%d %H:%M:%S')\n",
    "saldo_parquet_name = 'saldo-'+saldo_name"
   ]
  },
  {
   "cell_type": "code",
   "execution_count": null,
   "id": "d906e415",
   "metadata": {},
   "outputs": [],
   "source": [
    "#Convertendo o DataFrame em parquet\n",
    "saldo.write.parquet(f's3://nubank-api-dependencias/Tabelas/saldo/{saldo_parquet_name}.parquet')"
   ]
  },
  {
   "cell_type": "markdown",
   "id": "eb974169",
   "metadata": {},
   "source": [
    "#### Despesas"
   ]
  },
  {
   "cell_type": "code",
   "execution_count": null,
   "id": "2c4925de",
   "metadata": {},
   "outputs": [],
   "source": [
    "#Schema do dataframe Despesas\n",
    "schemas = StructType([\n",
    "    StructField('postDate', StringType(), True),\n",
    "    StructField('title', StringType(), True),\n",
    "    StructField('amount', FloatType(), True)\n",
    "])"
   ]
  },
  {
   "cell_type": "code",
   "execution_count": null,
   "id": "4f484dc6",
   "metadata": {},
   "outputs": [],
   "source": [
    "# Transformando o arquivo Json em DataFrame\n",
    "despesas = spark.read.json('s3://nubank-api-dependencias/JSONS/despesas.json',schemas)"
   ]
  },
  {
   "cell_type": "code",
   "execution_count": null,
   "id": "8da13f4c",
   "metadata": {},
   "outputs": [],
   "source": [
    "# Converte a coluna 'postDate' para o formato Timestamp \n",
    "despesas = despesas.withColumn('postDate', to_timestamp(despesas['postDate'], 'yyyy-MM-dd'))"
   ]
  },
  {
   "cell_type": "code",
   "execution_count": null,
   "id": "f58471bb",
   "metadata": {},
   "outputs": [],
   "source": [
    "#Convertendo o DataFrame em parquet\n",
    "despesas.write.\\\n",
    "parquet('s3://nubank-api-dependencias/Tabelas/despesas/', mode='overwrite')"
   ]
  },
  {
   "cell_type": "markdown",
   "id": "0b5cc93d",
   "metadata": {},
   "source": [
    "#### Receitas"
   ]
  },
  {
   "cell_type": "code",
   "execution_count": null,
   "id": "ba094b89",
   "metadata": {
    "scrolled": true
   },
   "outputs": [],
   "source": [
    "# Transformando o arquivo Json em DataFrame\n",
    "receitas = spark.read.json('s3://nubank-api-dependencias/JSONS/receitas.json',schemas)"
   ]
  },
  {
   "cell_type": "code",
   "execution_count": null,
   "id": "f63c2987",
   "metadata": {},
   "outputs": [],
   "source": [
    "# Converte a coluna 'postDate' para o formato Timestamp \n",
    "receitas = receitas.withColumn('postDate', to_timestamp(receitas['postDate'], 'yyyy-MM-dd'))"
   ]
  },
  {
   "cell_type": "code",
   "execution_count": null,
   "id": "3d38f127",
   "metadata": {
    "scrolled": true
   },
   "outputs": [],
   "source": [
    "#Convertendo o DataFrame em parquet\n",
    "receitas.write.\\\n",
    "parquet('s3://nubank-api-dependencias/Tabelas/receitas/', mode='overwrite')"
   ]
  }
 ],
 "metadata": {
  "kernelspec": {
   "display_name": "PySpark",
   "language": "python",
   "name": "pysparkkernel"
  },
  "language_info": {
   "codemirror_mode": {
    "name": "python",
    "version": 3
   },
   "file_extension": ".py",
   "mimetype": "text/x-python",
   "name": "pyspark",
   "pygments_lexer": "python3"
  }
 },
 "nbformat": 4,
 "nbformat_minor": 5
}
