{
 "cells": [
  {
   "cell_type": "code",
   "execution_count": null,
   "id": "c0aa0057-6173-4e7b-9661-02181e40688a",
   "metadata": {},
   "outputs": [],
   "source": [
    "#Link para o repositório GitHub onde está documentada a API da Nubank.\n",
    "'https://github.com/andreroggeri/pynubank/tree/main'"
   ]
  },
  {
   "cell_type": "code",
   "execution_count": null,
   "id": "cd02585d",
   "metadata": {
    "scrolled": true
   },
   "outputs": [],
   "source": [
    "#Instalando as dependencias \n",
    "import os\n",
    "os.system('sudo pip3 install cryptography==38.0.2 urllib3==1.26.6 s3fs boto3 pynubank')"
   ]
  },
  {
   "cell_type": "markdown",
   "id": "f8117f90",
   "metadata": {},
   "source": [
    "### Bibliotecas"
   ]
  },
  {
   "cell_type": "code",
   "execution_count": null,
   "id": "3751273f",
   "metadata": {},
   "outputs": [],
   "source": [
    "import boto3\n",
    "import json\n",
    "from dateutil import parser\n",
    "from datetime import timedelta, datetime, timezone\n",
    "from pynubank import Nubank"
   ]
  },
  {
   "cell_type": "code",
   "execution_count": null,
   "id": "f65a8441",
   "metadata": {},
   "outputs": [],
   "source": [
    "from cryptography.hazmat.backends.openssl.x509 import _Certificate"
   ]
  },
  {
   "cell_type": "markdown",
   "id": "c8055eaf",
   "metadata": {},
   "source": [
    "### SecretsManager"
   ]
  },
  {
   "cell_type": "code",
   "execution_count": null,
   "id": "5e3fc86a",
   "metadata": {},
   "outputs": [],
   "source": [
    "#Criando um client com o secretsmanager\n",
    "client = boto3.client('secretsmanager', region_name='us-east-1')\n",
    "\n",
    "#Pegando as credenciais do rds\n",
    "secret = client.get_secret_value(SecretId='nubank-autenticacao')\n",
    "\n",
    "#Convertendo em um objeto JSON\n",
    "chave = json.loads(secret['SecretString'])"
   ]
  },
  {
   "cell_type": "markdown",
   "id": "ee42c33d",
   "metadata": {},
   "source": [
    "### S3"
   ]
  },
  {
   "cell_type": "code",
   "execution_count": null,
   "id": "c61b5599",
   "metadata": {},
   "outputs": [],
   "source": [
    "#Criando um client com o S3\n",
    "s3 = boto3.client('s3')\n",
    "\n",
    "#Extraindo do S3 as credenciais das API\n",
    "s3.download_file('nubank-api-dependencias', 'cert.p12', 'cert.p12')"
   ]
  },
  {
   "cell_type": "markdown",
   "id": "26863b6c",
   "metadata": {},
   "source": [
    "### Nubank"
   ]
  },
  {
   "cell_type": "markdown",
   "id": "f4cd58ae",
   "metadata": {},
   "source": [
    "##### Autenticacao"
   ]
  },
  {
   "cell_type": "code",
   "execution_count": null,
   "id": "2a0e2d30",
   "metadata": {},
   "outputs": [],
   "source": [
    "#Definição de variáveis de autenticação do Nubank\n",
    "cpf = chave['cpf']\n",
    "senha = chave['senha']"
   ]
  },
  {
   "cell_type": "code",
   "execution_count": null,
   "id": "b5ae2ec5",
   "metadata": {},
   "outputs": [],
   "source": [
    "#Autenticação no Nubank usando o certificado\n",
    "nu = Nubank()"
   ]
  },
  {
   "cell_type": "code",
   "execution_count": null,
   "id": "ade0c94f",
   "metadata": {},
   "outputs": [],
   "source": [
    "nu.authenticate_with_cert(cpf, senha, 'cert.p12')"
   ]
  },
  {
   "cell_type": "markdown",
   "id": "3295b00a",
   "metadata": {},
   "source": [
    "###### Requets"
   ]
  },
  {
   "cell_type": "code",
   "execution_count": null,
   "id": "6e1f8575",
   "metadata": {},
   "outputs": [],
   "source": [
    "# Recupera as compras feitas no cartão\n",
    "transacoes = nu.get_card_statements()"
   ]
  },
  {
   "cell_type": "code",
   "execution_count": null,
   "id": "5c7bfaec",
   "metadata": {},
   "outputs": [],
   "source": [
    "# Recupera o saldo atual da conta\n",
    "saldo = nu.get_account_balance()"
   ]
  },
  {
   "cell_type": "code",
   "execution_count": null,
   "id": "f9ccb6df",
   "metadata": {},
   "outputs": [],
   "source": [
    "# Recupera o limite atual do credito\n",
    "limite = nu.get_credit_card_balance()"
   ]
  },
  {
   "cell_type": "code",
   "execution_count": null,
   "id": "c2cebfb8",
   "metadata": {},
   "outputs": [],
   "source": [
    "# Recupera o Feed de movimentacao da conta\n",
    "feed = nu.get_account_feed_paginated()"
   ]
  },
  {
   "cell_type": "markdown",
   "id": "3af732e6",
   "metadata": {},
   "source": [
    "##### Separando por assunto"
   ]
  },
  {
   "cell_type": "code",
   "execution_count": null,
   "id": "98fb4eb0",
   "metadata": {},
   "outputs": [],
   "source": [
    "#Separa as transações em parcelamentos e compras\n",
    "parcelamentos = []\n",
    "compras = []\n",
    "\n",
    "for transacao in transacoes:\n",
    "    if 'details' in transacao and 'count' in transacao['details'].get('charges', {}):\n",
    "        parcelamentos.append(transacao)\n",
    "    else:\n",
    "        compras.append(transacao)"
   ]
  },
  {
   "cell_type": "code",
   "execution_count": null,
   "id": "1787540e",
   "metadata": {},
   "outputs": [],
   "source": [
    "#Função para listar as parcelas de uma transação\n",
    "def listar_parcelas(dados):\n",
    "  lista = []\n",
    "  for x in list(range(0,dados['details']['charges']['count'])):\n",
    "    r = 1 + x\n",
    "    datas = parser.parse(dados['time'])\n",
    "\n",
    "    # Calcula a data de cada parcela adicionando 30 dias à data da transação\n",
    "    new_data = datas + timedelta(days=30*r)\n",
    "    new_data = new_data.strftime(\"%Y-%m-%dT%H:%M:%SZ\")\n",
    "    if x == 0:\n",
    "      data = parser.parse(dados['time'])\n",
    "\n",
    "      # Verifica se o dia da transação é menor que 9\n",
    "      if data.day < 9:\n",
    "        dic = {\n",
    "                'time' : dados['time'],\n",
    "                'title' : dados['title'],\n",
    "                'description' : dados['description'],\n",
    "                'category' : dados['category'],\n",
    "                'amount' : dados['details']['charges']['amount']/100,\n",
    "                'qtd_parcelas' : dados['details']['charges']['count'],\n",
    "                'parcela' : x+1\n",
    "            }\n",
    "        lista.append(dic)\n",
    "      else:\n",
    "        dic_ = {\n",
    "                'time' : new_data,\n",
    "                'title' : dados['title'],\n",
    "                'description' : dados['description'],\n",
    "                'category' : dados['category'],\n",
    "                'amount' : dados['details']['charges']['amount']/100,\n",
    "                'qtd_parcelas' : dados['details']['charges']['count'],\n",
    "                'parcela' : x+1\n",
    "            }\n",
    "        lista.append(dic_)\n",
    "    else:\n",
    "      dic_1 = {\n",
    "          'time' : new_data,\n",
    "          'title' : dados['title'],\n",
    "          'description' : dados['description'],\n",
    "          'category' : dados['category'],\n",
    "          'amount' : dados['details']['charges']['amount']/100,\n",
    "          'qtd_parcelas' : dados['details']['charges']['count'],\n",
    "          'parcela' : x+1\n",
    "          }\n",
    "      lista.append(dic_1)\n",
    "  return lista"
   ]
  },
  {
   "cell_type": "code",
   "execution_count": null,
   "id": "7b4f1155",
   "metadata": {},
   "outputs": [],
   "source": [
    "# Adicionando Data no dicionario do saldo\n",
    "saldo = [{\n",
    "    'Data':datetime.now().strftime('%Y:%m:%d %H:%M:%S'),\n",
    "    'Saldo':saldo\n",
    "}]"
   ]
  },
  {
   "cell_type": "code",
   "execution_count": null,
   "id": "0481fe63",
   "metadata": {},
   "outputs": [],
   "source": [
    "# Montando o dic do tema Limite\n",
    "limite = [{\n",
    "    'Data':datetime.now().strftime('%Y:%m:%d %H:%M:%S'),\n",
    "    'Fatura_atual':limite['open']/100,\n",
    "    'Limite_disponivel':limite['available']/100,\n",
    "    'limite':(limite['open']+limite['available'])/100\n",
    "}]"
   ]
  },
  {
   "cell_type": "code",
   "execution_count": null,
   "id": "1bbc0310",
   "metadata": {},
   "outputs": [],
   "source": [
    "#Lista todas as parcelas de cada transação de parcelamento\n",
    "parcelas = []\n",
    "for h in parcelamentos:\n",
    "  parcelas.extend(listar_parcelas(h))"
   ]
  },
  {
   "cell_type": "code",
   "execution_count": null,
   "id": "dcc844ab",
   "metadata": {},
   "outputs": [],
   "source": [
    "#Separando a lista feed em duas listas que representam receita e despesas\n",
    "receita = []\n",
    "despesas = []\n",
    "r = ['Pagamento recebido','Transferência recebida','Resgate RDB']\n",
    "for x in feed['edges']:\n",
    "  if x['node']['title'] in r:\n",
    "    receita.append(x['node'])\n",
    "  else:\n",
    "    despesas.append(x['node'])"
   ]
  },
  {
   "cell_type": "markdown",
   "id": "63267731",
   "metadata": {},
   "source": [
    "#### Salvando or arquivos no S3"
   ]
  },
  {
   "cell_type": "code",
   "execution_count": null,
   "id": "a5a6218d",
   "metadata": {
    "scrolled": true
   },
   "outputs": [],
   "source": [
    "#compras\n",
    "s3.put_object(Body=json.dumps(compras), Bucket='nubank-api-dependencias', Key='JSONS/compras.json')"
   ]
  },
  {
   "cell_type": "code",
   "execution_count": null,
   "id": "8999dabe",
   "metadata": {},
   "outputs": [],
   "source": [
    "#Parcelas\n",
    "s3.put_object(Body=json.dumps(parcelas), Bucket='nubank-api-dependencias', Key='JSONS/parcelas.json')"
   ]
  },
  {
   "cell_type": "code",
   "execution_count": null,
   "id": "c364cce7",
   "metadata": {},
   "outputs": [],
   "source": [
    "#saldo\n",
    "s3.put_object(Body=json.dumps(saldo), Bucket='nubank-api-dependencias', Key='JSONS/saldo.json')"
   ]
  },
  {
   "cell_type": "code",
   "execution_count": null,
   "id": "bf27f27c",
   "metadata": {
    "scrolled": true
   },
   "outputs": [],
   "source": [
    "#limite\n",
    "s3.put_object(Body=json.dumps(limite), Bucket='nubank-api-dependencias', Key='JSONS/limite.json')"
   ]
  },
  {
   "cell_type": "code",
   "execution_count": null,
   "id": "32a3dcbc",
   "metadata": {},
   "outputs": [],
   "source": [
    "#Despesas\n",
    "s3.put_object(Body=json.dumps(despesas), Bucket='nubank-api-dependencias', Key='JSONS/despesas.json')"
   ]
  },
  {
   "cell_type": "code",
   "execution_count": null,
   "id": "518af277",
   "metadata": {},
   "outputs": [],
   "source": [
    "#Resceitas\n",
    "s3.put_object(Body=json.dumps(receita), Bucket='nubank-api-dependencias', Key='JSONS/receitas.json')"
   ]
  }
 ],
 "metadata": {
  "kernelspec": {
   "display_name": "Python 3 (ipykernel)",
   "language": "python",
   "name": "python3"
  },
  "language_info": {
   "codemirror_mode": {
    "name": "ipython",
    "version": 3
   },
   "file_extension": ".py",
   "mimetype": "text/x-python",
   "name": "python",
   "nbconvert_exporter": "python",
   "pygments_lexer": "ipython3",
   "version": "3.10.0"
  }
 },
 "nbformat": 4,
 "nbformat_minor": 5
}
