{
 "cells": [
  {
   "cell_type": "code",
   "execution_count": 1,
   "id": "81cfe021",
   "metadata": {},
   "outputs": [
    {
     "data": {
      "text/plain": [
       "0"
      ]
     },
     "execution_count": 1,
     "metadata": {},
     "output_type": "execute_result"
    }
   ],
   "source": [
    "#Instalando as depedencias\n",
    "import os\n",
    "os.system('pip3 install urllib3==1.26.6 s3fs boto3 google-api-python-client google-auth-httplib2 google-auth-oauthlib')"
   ]
  },
  {
   "cell_type": "code",
   "execution_count": 2,
   "id": "77825979",
   "metadata": {},
   "outputs": [],
   "source": [
    "#Importação das bibliotecas do Google Sheets para interagir com as planilhas do Google\n",
    "from googleapiclient.discovery import build\n",
    "from google.auth.transport.requests import Request\n",
    "from google.oauth2.credentials import Credentials\n",
    "from google_auth_oauthlib.flow import InstalledAppFlow\n",
    "from googleapiclient.errors import HttpError\n",
    "\n",
    "#Interagir com a AWS\n",
    "import boto3\n",
    "import json"
   ]
  },
  {
   "cell_type": "markdown",
   "id": "0aa0b0e3",
   "metadata": {},
   "source": [
    "#### Secrets Manager"
   ]
  },
  {
   "cell_type": "code",
   "execution_count": 3,
   "id": "a95ec2c7",
   "metadata": {},
   "outputs": [],
   "source": [
    "#Criando um client com o secretsmanager\n",
    "client = boto3.client('secretsmanager', region_name='us-east-1')\n",
    "\n",
    "#Pegando as credenciais da aws\n",
    "secret = client.get_secret_value(SecretId='user-athena-requets-aws-secrets')\n",
    "\n",
    "#Convertendo em um objeto JSON\n",
    "chave = json.loads(secret['SecretString'])"
   ]
  },
  {
   "cell_type": "markdown",
   "id": "81436aa9",
   "metadata": {},
   "source": [
    "#### Athena"
   ]
  },
  {
   "cell_type": "code",
   "execution_count": 4,
   "id": "ea14a988",
   "metadata": {},
   "outputs": [],
   "source": [
    "# Este código coleta dados do AWS Athena por meio da API.\n",
    "# Informações de acesso\n",
    "AWS_ACCESS_KEY = chave['AWS_ACCESS_KEY']\n",
    "AWS_SECRET_KEY = chave['AWS_SECRET_KEY']\n",
    "S3_OUTPUT = \"s3://bkt-estudo/Retorno/\"\n",
    "AWS_REGION = \"us-east-1\"\n",
    "DATABASE = \"nubank\""
   ]
  },
  {
   "cell_type": "code",
   "execution_count": 5,
   "id": "b082d311",
   "metadata": {},
   "outputs": [],
   "source": [
    "TABLES = [\"despesas\",\"limite\",\"receitas\",\"saldo\",\"transacoes\"]"
   ]
  },
  {
   "cell_type": "code",
   "execution_count": 6,
   "id": "8c9a2ee1",
   "metadata": {},
   "outputs": [],
   "source": [
    "  # Criação do cliente do Athena\n",
    "client = boto3.client('athena',\n",
    "                      aws_access_key_id=AWS_ACCESS_KEY,\n",
    "                      aws_secret_access_key=AWS_SECRET_KEY,\n",
    "                      region_name=AWS_REGION)"
   ]
  },
  {
   "cell_type": "code",
   "execution_count": 7,
   "id": "e53327a9",
   "metadata": {},
   "outputs": [],
   "source": [
    "# Para cada tabela, inicia uma execução de consulta.\n",
    "for x in TABLES:\n",
    "    # A string de consulta seleciona todas as linhas da tabela.\n",
    "    response = client.start_query_execution(\n",
    "        QueryString=f'SELECT * FROM \"{DATABASE}\".\"{x}\"',\n",
    "        QueryExecutionContext={\n",
    "            'Database': DATABASE\n",
    "        },\n",
    "        ResultConfiguration={\n",
    "            'OutputLocation': S3_OUTPUT\n",
    "        })\n",
    "\n",
    "    # Espera até que a consulta termine.\n",
    "    while True:\n",
    "        stats = client.get_query_execution(QueryExecutionId=response['QueryExecutionId'])\n",
    "        status = stats['QueryExecution']['Status']['State']\n",
    "\n",
    "        if status in ['SUCCEEDED', 'FAILED', 'CANCELLED']:\n",
    "            break\n",
    "\n",
    "    # Obtém os resultados da consulta.\n",
    "    column_data = []\n",
    "    results = client.get_query_results(QueryExecutionId=response['QueryExecutionId'])\n",
    "\n",
    "    # Se houver um próximo token, obtém a próxima página de resultados.\n",
    "    if 'NextToken' in results:\n",
    "        token = results['NextToken']\n",
    "\n",
    "        for row in results['ResultSet']['Rows']:\n",
    "            row_data = [col['VarCharValue'] for col in row['Data']]\n",
    "            column_data.append(row_data)\n",
    "\n",
    "        while True:\n",
    "            data = []\n",
    "            results = client.get_query_results(QueryExecutionId=response['QueryExecutionId'], NextToken=token)\n",
    "            for row in results['ResultSet']['Rows']:\n",
    "                row_data = [col['VarCharValue'] for col in row['Data']]\n",
    "                data.append(row_data)\n",
    "            column_data.extend(data[1:])\n",
    "\n",
    "            if 'NextToken' not in results:\n",
    "                break  # Sai do loop se não houver mais tokens.\n",
    "\n",
    "            token = results['NextToken']\n",
    "\n",
    "    # Caso contrário, não há mais páginas de resultados.\n",
    "    else:\n",
    "        for row in results['ResultSet']['Rows']:\n",
    "            row_data = [col['VarCharValue'] for col in row['Data']]\n",
    "            column_data.append(row_data)\n",
    "\n",
    "    # Armazena os dados das colunas em uma variável global.\n",
    "    globals()[f\"{x}\"] = column_data"
   ]
  },
  {
   "cell_type": "markdown",
   "id": "cc31c89e",
   "metadata": {},
   "source": [
    "#### S3"
   ]
  },
  {
   "cell_type": "code",
   "execution_count": 8,
   "id": "6bc0239b",
   "metadata": {},
   "outputs": [],
   "source": [
    "s3 = boto3.client('s3')\n",
    "\n",
    "#Extraindo do S3 as credenciais da API do Sheets\n",
    "s3.download_file('nubank-api-dependencias', 'token.json', 'token.json')"
   ]
  },
  {
   "cell_type": "markdown",
   "id": "ddae46f3",
   "metadata": {},
   "source": [
    "#### Google Sheets"
   ]
  },
  {
   "cell_type": "code",
   "execution_count": 9,
   "id": "b3761dc8",
   "metadata": {},
   "outputs": [],
   "source": [
    "# Scopes para a API do Google Sheets\n",
    "SCOPES = ['https://www.googleapis.com/auth/spreadsheets']"
   ]
  },
  {
   "cell_type": "code",
   "execution_count": 10,
   "id": "6df574db",
   "metadata": {},
   "outputs": [],
   "source": [
    "# ID da planilha e intervalos de células que serão lidos\n",
    "SAMPLE_SPREADSHEET_ID = '1tLoo0DXR9crNrvzpCsaRCIvtn3VC1wIHEIpF-v_hkEg'\n",
    "\n",
    "creds = Credentials.from_authorized_user_file('token.json', SCOPES)\n",
    "\n",
    "# Cria o objeto de serviço da API do Google Sheets\n",
    "service = build('sheets', 'v4', credentials=creds)\n",
    "sheet = service.spreadsheets()"
   ]
  },
  {
   "cell_type": "code",
   "execution_count": 11,
   "id": "4a4ea74d",
   "metadata": {},
   "outputs": [],
   "source": [
    "#Intervalos e abas da planilha\n",
    "ss_transacoes = ['Transacao!A2:A','Transacao!B2:B','Transacao!C2:C','Transacao!D2:D','Transacao!E2:E','Transacao!F2:F','Transacao!G2:G']\n",
    "ss_receitas = ['Receitas!A2:A','Receitas!B2:B','Receitas!C2:C']\n",
    "ss_despesas = ['Despesas!A2:A','Despesas!B2:B','Despesas!C2:C']"
   ]
  },
  {
   "cell_type": "code",
   "execution_count": 12,
   "id": "cfd9fd16",
   "metadata": {},
   "outputs": [],
   "source": [
    "#Funcao para transformar os dados e o google sheets salvalos corretamente\n",
    "def transformar_lista(lista):\n",
    "    resultado = [[item] for item in lista]\n",
    "    return resultado"
   ]
  },
  {
   "cell_type": "markdown",
   "id": "62f9bf65",
   "metadata": {},
   "source": [
    "#### Enviando os dados para a Planilha"
   ]
  },
  {
   "cell_type": "markdown",
   "id": "56636e1b",
   "metadata": {},
   "source": [
    "##### Transacoes"
   ]
  },
  {
   "cell_type": "code",
   "execution_count": 35,
   "id": "34e1fb92",
   "metadata": {},
   "outputs": [],
   "source": [
    "#Funcao para remover os tres ultimos zeros das strings de datas retornados pelo Athena\n",
    "def remover_tres_zeros(data_string):\n",
    "    lista = []\n",
    "    for x in data_string:\n",
    "        lista.append(x[:-4])\n",
    "    return lista"
   ]
  },
  {
   "cell_type": "code",
   "execution_count": 36,
   "id": "8e8e126f",
   "metadata": {},
   "outputs": [],
   "source": [
    "#Envian para a planilha as informacoes sobre transacoes\n",
    "datas = remover_tres_zeros([x[3] for x in transacoes[1:]])\n",
    "categoria = [x[1] for x in transacoes[1:]]\n",
    "descricao = [x[2] for x in transacoes[1:]]\n",
    "tipo = [x[4] for x in transacoes[1:]]\n",
    "valor = [x[0].replace('.', ',') for x in transacoes[1:]]\n",
    "qtd_parcelas = [x[5] for x in transacoes[1:]]\n",
    "parcela = [x[6] for x in transacoes[1:]]\n",
    "l = [datas,categoria,descricao,tipo,valor,qtd_parcelas,parcela]\n",
    "\n",
    "for a,b in zip(l,ss_transacoes):\n",
    "  sheet.values().update(spreadsheetId=SAMPLE_SPREADSHEET_ID,\n",
    "                        range=b, valueInputOption='USER_ENTERED',\n",
    "                        body={'values':transformar_lista(a)}).execute()"
   ]
  },
  {
   "cell_type": "markdown",
   "id": "433e48b2",
   "metadata": {},
   "source": [
    "###### Receitas"
   ]
  },
  {
   "cell_type": "code",
   "execution_count": 37,
   "id": "0ae201af",
   "metadata": {},
   "outputs": [],
   "source": [
    "#Mandando para a planilha as informacoes sobre receitas\n",
    "datass = remover_tres_zeros([x[0] for x in receitas[1:]])\n",
    "descricaos = [x[1] for x in receitas[1:]]\n",
    "valors = [x[2].replace('.', ',') for x in receitas[1:]]\n",
    "ls = [datass,descricaos,valors]\n",
    "\n",
    "for c,d in zip(ls,ss_receitas):\n",
    "  sheet.values().update(spreadsheetId=SAMPLE_SPREADSHEET_ID,\n",
    "                        range=d, valueInputOption='USER_ENTERED',\n",
    "                        body={'values':transformar_lista(c)}).execute()"
   ]
  },
  {
   "cell_type": "markdown",
   "id": "767f20a9",
   "metadata": {},
   "source": [
    "##### Despesas"
   ]
  },
  {
   "cell_type": "code",
   "execution_count": 38,
   "id": "33e5641a",
   "metadata": {},
   "outputs": [],
   "source": [
    "#Mandando para a planilha as informacoes sobre despesas\n",
    "datasss = remover_tres_zeros([x[0] for x in despesas[1:]])\n",
    "descricaoss = [x[1] for x in despesas[1:]]\n",
    "valorss = [x[2].replace('.', ',') for x in despesas[1:]]\n",
    "lss = [datasss,descricaoss,valorss]\n",
    "\n",
    "for e,f in zip(lss,ss_despesas):\n",
    "  sheet.values().update(spreadsheetId=SAMPLE_SPREADSHEET_ID,\n",
    "                        range=f, valueInputOption='USER_ENTERED',\n",
    "                        body={'values':transformar_lista(e)}).execute()"
   ]
  },
  {
   "cell_type": "markdown",
   "id": "37fa4aae",
   "metadata": {},
   "source": [
    "##### Limite"
   ]
  },
  {
   "cell_type": "code",
   "execution_count": 39,
   "id": "b32ea4a6",
   "metadata": {},
   "outputs": [],
   "source": [
    "ss_limite = ['Limite!A2:A','Limite!B2:B','Limite!C2:C','Limite!D2:D']"
   ]
  },
  {
   "cell_type": "code",
   "execution_count": 40,
   "id": "00be3f54",
   "metadata": {},
   "outputs": [],
   "source": [
    "#Mandando para a planilha as informacoes sobre o limite\n",
    "datassss = remover_tres_zeros([x[0] for x in limite[1:]])\n",
    "fatura_atual = [x[1].replace('.', ',') for x in limite[1:]]\n",
    "limite_disponivel = [x[2].replace('.', ',') for x in limite[1:]]\n",
    "limitess = [x[3].replace('.', ',') for x in limite[1:]]\n",
    "lsss = [datassss,fatura_atual,limite_disponivel,limitess]\n",
    "\n",
    "for g,h in zip(lsss,ss_limite):\n",
    "  sheet.values().update(spreadsheetId=SAMPLE_SPREADSHEET_ID,\n",
    "                        range=h, valueInputOption='USER_ENTERED',\n",
    "                        body={'values':transformar_lista(g)}).execute()"
   ]
  },
  {
   "cell_type": "markdown",
   "id": "98dc41fd",
   "metadata": {},
   "source": [
    "##### Saldo"
   ]
  },
  {
   "cell_type": "code",
   "execution_count": 41,
   "id": "13bfa083",
   "metadata": {},
   "outputs": [],
   "source": [
    "ss_saldo = ['Saldo!A2:A','Saldo!B2:B']"
   ]
  },
  {
   "cell_type": "code",
   "execution_count": 42,
   "id": "13aa0823",
   "metadata": {},
   "outputs": [],
   "source": [
    "#Mandando para a planilha as informacoes sobre o saldo\n",
    "datasssss = remover_tres_zeros([x[0] for x in saldo[1:]])\n",
    "saldos = [x[1].replace('.', ',') for x in saldo[1:]]\n",
    "lssss = [datasssss,saldos]\n",
    "\n",
    "for i,j in zip(lssss,ss_saldo):\n",
    "  sheet.values().update(spreadsheetId=SAMPLE_SPREADSHEET_ID,\n",
    "                        range=j, valueInputOption='USER_ENTERED',\n",
    "                        body={'values':transformar_lista(i)}).execute()"
   ]
  }
 ],
 "metadata": {
  "kernelspec": {
   "display_name": "Python 3 (ipykernel)",
   "language": "python",
   "name": "python3"
  },
  "language_info": {
   "codemirror_mode": {
    "name": "ipython",
    "version": 3
   },
   "file_extension": ".py",
   "mimetype": "text/x-python",
   "name": "python",
   "nbconvert_exporter": "python",
   "pygments_lexer": "ipython3",
   "version": "3.10.0"
  }
 },
 "nbformat": 4,
 "nbformat_minor": 5
}
